import torch

# Check if MPS is available (it should be on M4)
if torch.backends.mps.is_available():
    device = torch.device("mps")
    x = x.to(device)
    y = y.to(device)
    z = x + y
    print(f"Using device: {device}")
    print(x)
    print(y) 
    print(z)
elif torch.cuda.is_available():
    # This won't run on your M4, but good to keep for compatibility
    device = torch.device("cuda")
    x = x.to(device)
    y = y.to(device)
    z = x + y
else:
    device = torch.device("cpu")
    print("Using CPU - no GPU acceleration available")